{
 "cells": [
  {
   "cell_type": "markdown",
   "metadata": {},
   "source": [
    "# Introduction"
   ]
  },
  {
   "cell_type": "markdown",
   "metadata": {},
   "source": [
    "<center><h3>**Welcome to the Language modeling Notebook.**</h3></center>\n",
    "\n",
    "In this assignment, you are going to train a neural network to **generate news headlines**.\n",
    "To reduce computational needs, we have reduced it to headlines about technology, and a handful of Tech giants.\n",
    "In this assignment you will:\n",
    "- Learn to preprocess raw text so it can be fed into an LSTM.\n",
    "- Make use of the LSTM library of Tensorflow, to train a Language model to generate headlines\n",
    "- Use your network to generate headlines, and judge which headlines are likely or not\n",
    "\n",
    "\n"
   ]
  },
  {
   "cell_type": "markdown",
   "metadata": {},
   "source": [
    "**What is a language model?**\n",
    "\n",
    "Language modeling is the task of assigning a probability to sentences in a language. Besides assigning a probability to each sequence of words, the language models also assigns a probability for the likelihood of a given word (or a sequence of words) to follow a sequence of words.\n",
    "— Page 105, __[Neural Network Methods in Natural Language Processing](https://www.amazon.com/Language-Processing-Synthesis-Lectures-Technologies/dp/1627052984/)__, 2017.\n",
    "\n",
    "In terms of neural network, we are training a neural network to produce probabilities (classification) over a fixed vocabulary of words.\n",
    "Concretely, we are training a neural network to produce:\n",
    "$$ P ( w_{i+1} | w_1, w_2, w_3, ..., w_i), \\forall i \\in (1,n)$$\n",
    "\n",
    "** Why is language modeling important? **\n",
    "\n",
    "Language modeling is a core problem in NLP.\n",
    "\n",
    "Language models can either be used as a stand-alone to produce new text that matches the distribution of text the model is trained on, but can also be used at the front-end of a more sophisticated model to produce better results.\n",
    "\n",
    "Recently for example, the __[BERT](https://arxiv.org/abs/1810.04805)__ paper show-cased that pretraining a large neural network on a language modeling task can help improve state-of-the-art on many NLP tasks. \n",
    "\n",
    "How good can the generation of a Language model be?\n",
    "\n",
    "If you have not seen the latest post by OpenAI, you should read some of the samples they generated from their language model __[here](https://blog.openai.com/better-language-models/#sample1)__.\n",
    "Because of computational restrictions, we will not achieve as good text production, but the same algorithm is at the core. They just use more data and compute."
   ]
  },
  {
   "cell_type": "markdown",
   "metadata": {},
   "source": [
    "# Library imports"
   ]
  },
  {
   "cell_type": "markdown",
   "metadata": {},
   "source": [
    "Before starting, make sure you have all these libraries."
   ]
  },
  {
   "cell_type": "code",
   "execution_count": 1,
   "metadata": {},
   "outputs": [],
   "source": [
    "from segtok import tokenizer\n",
    "from collections import Counter\n",
    "import tensorflow as tf\n",
    "import numpy as np\n",
    "import json\n",
    "import os\n",
    "\n",
    "root_folder = \"\""
   ]
  },
  {
   "cell_type": "markdown",
   "metadata": {},
   "source": [
    "# Loading the datasets"
   ]
  },
  {
   "cell_type": "markdown",
   "metadata": {},
   "source": [
    "Make sure the dataset files are all in the `dataset` folder of the assignment.\n",
    "\n",
    " - If you are using this notebook locally: You should run the `download_data.sh` script.\n",
    " - If you are using the Colab version of the notebook, make sure that your Google Drive is mounted, and you verify from the file explorer in Colab that the files are viewable within `/content/gdrive/CS182_HW03/dataset/`\n",
    " \n"
   ]
  },
  {
   "cell_type": "code",
   "execution_count": 2,
   "metadata": {},
   "outputs": [
    {
     "name": "stdout",
     "output_type": "stream",
     "text": [
      "Number of training samples: 88568\n",
      "Number of validation samples: 946\n"
     ]
    }
   ],
   "source": [
    "# This cell loads the data for the model\n",
    "# Run this before working on loading any of the additional data\n",
    "\n",
    "with open(root_folder+\"dataset/headline_generation_dataset_processed.json\", \"r\") as f:\n",
    "    d_released = json.load(f)\n",
    "\n",
    "with open(root_folder+\"dataset/headline_generation_vocabulary.txt\", \"r\") as f:\n",
    "    vocabulary = f.read().split(\"\\n\")\n",
    "w2i = {w: i for i, w in enumerate(vocabulary)} # Word to index\n",
    "unkI, padI, start_index = w2i['UNK'], w2i['PAD'], w2i['<START>']\n",
    "\n",
    "vocab_size = len(vocabulary)\n",
    "input_length = len(d_released[0]['numerized']) # The length of the first element in the dataset, they are all of the same length\n",
    "d_train = [d for d in d_released if d['cut'] == 'training']\n",
    "d_valid = [d for d in d_released if d['cut'] == 'validation']\n",
    "\n",
    "print(\"Number of training samples:\",len(d_train))\n",
    "print(\"Number of validation samples:\",len(d_valid))"
   ]
  },
  {
   "cell_type": "markdown",
   "metadata": {},
   "source": [
    "Now that we have loaded the data, let's inspect one of the elements. Each sample in our dataset is has a `numerized` vector, that contains the preprocessed headline. This vector is what we will feed in to the neural network. The field `numerized` corresponds to this list of tokens. The already loaded dictionary `vocabulary` maps token lists to the actual string. Use these elements to recover `title` key of entry 1001 in the training dataset.\n",
    "\n",
    "**TODO**: Write the numerized2text function and inspect element 1001 in the training dataset (`entry = d_train[1001]`).\n",
    "\n"
   ]
  },
  {
   "cell_type": "code",
   "execution_count": 3,
   "metadata": {},
   "outputs": [
    {
     "name": "stdout",
     "output_type": "stream",
     "text": [
      "Reversing the numerized: microsoft donates cloud computing ' worth $ 1 bn '\n",
      "From the `title` entry: Microsoft donates cloud computing 'worth $1 bn'\n"
     ]
    }
   ],
   "source": [
    "def numerized2text(numerized):\n",
    "    \"\"\" Converts an integer sequence in the vocabulary into a string corresponding to the title.\n",
    "    \n",
    "        Arguments:\n",
    "            numerized: List[int]  -- The list of vocabulary indices corresponding to the string\n",
    "        Returns:\n",
    "            title: str -- The string corresponding to the numerized input, without padding.\n",
    "    \"\"\"\n",
    "    #####\n",
    "    # BEGIN YOUR CODE HERE \n",
    "    # Recover each word from the vocabulary in the list of indices in numerized, using the vocabulary variable\n",
    "    # Hint: Use the string.join() function to reconstruct a single string\n",
    "    #####\n",
    "    \n",
    "    words = [vocabulary[i] for i in numerized if i != padI]\n",
    "    converted_string = \" \".join(words)\n",
    "    \n",
    "    #####\n",
    "    # END YOUR CODE HERE\n",
    "    #####\n",
    "    \n",
    "    return converted_string\n",
    "\n",
    "entry = d_train[1001]\n",
    "print(\"Reversing the numerized: \"+numerized2text(entry['numerized']))\n",
    "print(\"From the `title` entry: \"+ entry['title'])"
   ]
  },
  {
   "cell_type": "markdown",
   "metadata": {},
   "source": [
    "In language modeling, we train a model to produce the next word in the sequence given all previously generated words. This has, in practice, two steps:\n",
    "\n",
    "\n",
    "    1. Adding a special <START> token to the start of the sequence for the input. This \"shifts\" the input to the right by one. We call this the \"source\" sequence\n",
    "    2. Making the network predict the original, unshifted version (we call this the \"target\" sequence)\n",
    "\n",
    "    \n",
    "Let's take an example. Say we want to train the network on the sentence: \"The cat is great.\"\n",
    "The input to the network will be \"`<START>` The cat is great.\" The target will be: \"The cat is great\".\n",
    "    \n",
    "Therefore the first prediction is to select the word \"The\" given the `<START>` token.\n",
    "The second prediction is to produce the word \"cat\" given the two tokens \"`<START>` The\".\n",
    "At each step, the network learns to predict the next word, given all previous ones.\n",
    "    \n",
    "---"
   ]
  },
  {
   "cell_type": "markdown",
   "metadata": {},
   "source": [
    "Your next step is to write the build_batch function. Given a dataset, we select a random subset of samples, and will build the \"inputs\" and the \"targets\" of the batch, following the procedure we've described.\n",
    "\n",
    "**TODO**: write the build_batch function. We give you the structure, and you have to fill in where we have left things `None`.\n"
   ]
  },
  {
   "cell_type": "code",
   "execution_count": 4,
   "metadata": {},
   "outputs": [],
   "source": [
    "def build_batch(dataset, batch_size):\n",
    "    \"\"\" Builds a batch of source and target elements from the dataset.\n",
    "    \n",
    "        Arguments:\n",
    "            dataset: List[db_element] -- A list of dataset elements\n",
    "            batch_size: int -- The size of the batch that should be created\n",
    "        Returns:\n",
    "            batch_input: List[List[int]] -- List of source sequences\n",
    "            batch_target: List[List[int]] -- List of target sequences\n",
    "            batch_target_mask: List[List[int]] -- List of target batch masks\n",
    "    \"\"\"\n",
    "    \n",
    "    #####\n",
    "    # BEGIN YOUR CODE HERE \n",
    "    #####\n",
    "    \n",
    "    \n",
    "    # We get a list of indices we will choose from the dataset.\n",
    "    # The randint function uses a uniform distribution, giving equal probably to any entry\n",
    "    # for each batch\n",
    "    indices = list(np.random.randint(0, len(dataset), size=batch_size))\n",
    "    \n",
    "    # Recover what the entries for the batch are\n",
    "    batch = [dataset[i] for i in indices]\n",
    "    \n",
    "    # Get the raw numerized for this input, each element of the dataset has a 'numerized' key\n",
    "    batch_numerized = [elem[\"numerized\"] for elem in batch]\n",
    "\n",
    "    # Create an array of start_index that will be concatenated at position 1 for the input.\n",
    "    # Should be of shape (batch_size, 1)\n",
    "    start_tokens = np.full((batch_size, 1), start_index)\n",
    "\n",
    "    # Concatenate the start_tokens with the rest of the input\n",
    "    # The np.concatenate function should be useful\n",
    "    # The output should now be [batch_size, sequence_length+1]\n",
    "    batch_input = np.concatenate([start_tokens, batch_numerized], axis=1)\n",
    "\n",
    "    # Remove the last word from each element in the batch\n",
    "    # To restore the [batch_size, sequence_length] size\n",
    "    batch_input = batch_input[:, :-1]\n",
    "    \n",
    "    # The target should be the un-shifted numerized input\n",
    "    batch_target = np.array(batch_numerized)\n",
    "\n",
    "    # The target-mask is a 0 or 1 filter to note which tokens are\n",
    "    # padding or not, to give the loss, so the model doesn't get rewarded for\n",
    "    # predicting PAD tokens.\n",
    "    batch_target_mask = np.array([a['mask'] for a in batch])\n",
    "    \n",
    "    #####\n",
    "    # END YOUR CODE HERE \n",
    "    #####\n",
    "        \n",
    "    return batch_input, batch_target, batch_target_mask"
   ]
  },
  {
   "cell_type": "markdown",
   "metadata": {},
   "source": [
    "# Creating the language model"
   ]
  },
  {
   "cell_type": "markdown",
   "metadata": {},
   "source": [
    "Now that we've written the data pipelining, we are ready to write the Neural network.\n",
    "\n",
    "The steps to setting up a neural network to do Language modeling are:\n",
    "- Creating the placeholders for the model, where we can feed in our inputs and targets.\n",
    "- Creating an RNN of our choice, size, and with optional parameters\n",
    "- Using the RNN on our placeholder inputs.\n",
    "- Getting the output from the RNN, and projecting it into a vocabulary sized dimension, so that we can make word predictions.\n",
    "- Setting up the loss on the outputs so that the network learns to produce the correct words.\n",
    "- Finally, choosing an optimizer, and defining a training operation: using the optimizer to minimize the loss.\n",
    "\n",
    "We provide skeleton code for the model, you can fill in the `None` section. If you are unfamiliar with Tensorflow, we provide some idea of what functions to look for, you should use the Tensorflow online documentation.\n",
    "\n",
    "**TODO**: Replace the `None` variables with their respective code elements in the LanguageModel Class\n"
   ]
  },
  {
   "cell_type": "code",
   "execution_count": 5,
   "metadata": {},
   "outputs": [],
   "source": [
    "# Using a basic RNN/LSTM for Language modeling\n",
    "class LanguageModel():\n",
    "    def __init__(self, input_length, vocab_size, rnn_size, learning_rate=1e-4):\n",
    "        \n",
    "        # Create the placeholders for the inputs:\n",
    "        # All three placeholders should be of size [None, input_length]\n",
    "        # Where None represents a variable batch_size, and input_length is the\n",
    "        # maximal length of a sequence of words, after being padded.\n",
    "        self.input_num = tf.placeholder(tf.int32, shape=[None, input_length])\n",
    "        self.targets = tf.placeholder(tf.int32, shape=[None, input_length])\n",
    "        self.targets_mask = tf.placeholder(tf.bool, shape=[None, input_length])\n",
    "\n",
    "        # Create an embedding variable of shape [vocab_size, rnn_size]\n",
    "        # That will map each word in our vocab into a vector of rnn_size size.\n",
    "        # embedding = tf.Variable(tf.random_normal(shape=[vocab_size, rnn_size]), dtype=tf.float32)\n",
    "        embedding = tf.get_variable('word_embeddings', [vocab_size, rnn_size], dtype=tf.float32)\n",
    "        # Use the tensorflow embedding_lookup function\n",
    "        # To embed the input_num, using the embedding variable we've created\n",
    "        input_emb = tf.nn.embedding_lookup(embedding, self.input_num)\n",
    "\n",
    "        # Create a an RNN or LSTM cell of rnn_size size.\n",
    "        # Look into the tf.nn.rnn_cell documentation\n",
    "        # You can optionally use Tensorflow Add-ons such as the MultiRNNCell, or the DropoutWrapper\n",
    "        cells = [tf.nn.rnn_cell.BasicLSTMCell(rnn_size) for i in range(3)]\n",
    "        lm_cell = tf.nn.rnn_cell.MultiRNNCell(cells)\n",
    "        lm_cell = tf.nn.rnn_cell.DropoutWrapper(lm_cell, 0.6, 1)\n",
    "        \n",
    "        # Use the dynamic_rnn function of Tensorflow to run the embedded inputs\n",
    "        # using the lm_cell you've created, and obtain the outputs of the RNN cell.\n",
    "        # You have created a cell, which represents a single block (column) of the RNN.\n",
    "        # dynamic_rnn will \"copy\" the cell for each element in your sequence, runs the input you provide through the cell,\n",
    "        # and returns the outputs and the states of the cell.\n",
    "        outputs, states = tf.nn.dynamic_rnn(lm_cell, input_emb, dtype=tf.float32)\n",
    "\n",
    "        # Use a dense layer to project the outputs of the RNN cell into the size of the\n",
    "        # vocabulary (vocab_size).\n",
    "        # output_logits should be of shape [None,input_length,vocab_size]\n",
    "        # You can look at the tf.layers.dense function\n",
    "        self.output_logits = tf.layers.dense(outputs, vocab_size)\n",
    "\n",
    "        # Setup the loss: using the sparse_softmax_cross_entropy.\n",
    "        # The logits are the output_logits we've computed.\n",
    "        # The targets are the gold labels we are trying to match\n",
    "        # Don't forget to use the targets_mask we have, so your loss is not off,\n",
    "        # And your model doesn't get rewarded for predicting PAD tokens\n",
    "        # You might have to cast the masks into float32. Look at the tf.cast function.\n",
    "        self.loss = tf.losses.sparse_softmax_cross_entropy(labels=self.targets,\n",
    "                                                           logits=self.output_logits,\n",
    "                                                           weights=tf.cast(self.targets_mask, dtype=tf.float32))\n",
    "\n",
    "        # Setup an optimizer (SGD, RMSProp, Adam), you can find a list under tf.train.*\n",
    "        # And provide it with a start learning rate.\n",
    "        \n",
    "        optimizer = tf.train.AdamOptimizer(learning_rate)\n",
    "        # optimizer = tf.train.AdamOptimizer(learning_rate,\n",
    "        #                                    beta1=0.85, \n",
    "        #                                    beta2=0.998)\n",
    "\n",
    "        # We create a train_op that requires the optimizer we've created to minimize the\n",
    "        # loss we've defined.\n",
    "        # look for the optimizer.minimize function, define what should be miniminzed.\n",
    "        # You can provide it with the provide an optional global_step parameter as well that keeps of how many\n",
    "        # Optimizations steps have been run.\n",
    "        \n",
    "        self.global_step = tf.train.get_or_create_global_step()\n",
    "        self.train_op = optimizer.minimize(self.loss)\n",
    "        self.saver = tf.train.Saver()"
   ]
  },
  {
   "cell_type": "markdown",
   "metadata": {},
   "source": [
    "Once you have created the Model class, we should instantiate the model. The line tf.reset_default_graph() resets the graph for the Jupyter notebook, so multiple models aren't floating around. If you have trouble with redefinition of variables, it may be worth re-running the cell below. "
   ]
  },
  {
   "cell_type": "code",
   "execution_count": 7,
   "metadata": {
    "scrolled": true
   },
   "outputs": [],
   "source": [
    "# We can create our model,\n",
    "# with parameters of our choosing.\n",
    "\n",
    "tf.reset_default_graph() # This is so that when you debug, you reset the graph each time you run this, in essence, cleaning the board\n",
    "model = LanguageModel(input_length=input_length, vocab_size=vocab_size, rnn_size=512, learning_rate=5e-3)"
   ]
  },
  {
   "cell_type": "markdown",
   "metadata": {},
   "source": [
    "# Training the model"
   ]
  },
  {
   "cell_type": "markdown",
   "metadata": {},
   "source": [
    "Your objective is to train the Language on the dataset you are provided to reach a **validation loss <= 5.50**\n",
    "\n",
    "**TODO**: Train your model so that it achieves a validation loss of <= 5.5. \n",
    "\n",
    "**Careful**: we will be testing this loss on an unreleased test set, so make sure to evaluate properly on a validation set and not overfit. You must save the model you want us to test under: models/final_language_model (the .index, .meta and .data files)\n",
    "\n",
    "**Advice**:\n",
    "- It should be possible to attain loss <= 5.50 with a 1-layer LSTM of size 256 or less.\n",
    "- You should not need more than 10 epochs to attain the threshold. More passes over the data can however give you a better model.\n",
    "- You can however try using:\n",
    "    - LSTM dropout (Tensorflow has a layer for that)\n",
    "    - Multi-layer RNN cell (Tensorflow has a layer for that)\n",
    "    - Change your optimizers, tune your learning_rate, use a learning rate schedule.\n",
    "    \n",
    "**Extra credit**:\n",
    "\n",
    "Get the loss below **validation loss <= 5.00** and get 5 points of extra-credit on this assignment. Get creative,\n",
    "\n",
    "but remember, what you do should work on our held-out test set to get the points."
   ]
  },
  {
   "cell_type": "code",
   "execution_count": 8,
   "metadata": {
    "scrolled": true
   },
   "outputs": [
    {
     "name": "stdout",
     "output_type": "stream",
     "text": [
      "Epoch: 0\n",
      "Batch 10-> Train Loss: 8.11014461517334\n",
      "Batch 20-> Train Loss: 7.424305438995361\n",
      "Batch 30-> Train Loss: 7.320949554443359\n",
      "Batch 40-> Train Loss: 7.136899471282959\n",
      "Batch 50-> Train Loss: 7.01597261428833\n",
      "Batch 60-> Train Loss: 7.018734455108643\n",
      "Batch 70-> Train Loss: 6.902159214019775\n",
      "Batch 80-> Train Loss: 6.897462368011475\n",
      "Batch 90-> Train Loss: 6.971229553222656\n",
      "Batch 100-> Train Loss: 6.746087551116943\n",
      "Batch 110-> Train Loss: 6.680699348449707\n",
      "Batch 120-> Train Loss: 6.700561046600342\n",
      "Batch 130-> Train Loss: 6.7179341316223145\n",
      "Batch 140-> Train Loss: 6.598365783691406\n",
      "Batch 150-> Train Loss: 6.58198881149292\n",
      "Batch 160-> Train Loss: 6.598360538482666\n",
      "Batch 170-> Train Loss: 6.509626388549805\n",
      "Batch 180-> Train Loss: 6.501737594604492\n",
      "Batch 190-> Train Loss: 6.52254056930542\n",
      "Batch 200-> Train Loss: 6.466122627258301\n",
      "Batch 210-> Train Loss: 6.439810752868652\n",
      "Batch 220-> Train Loss: 6.4289870262146\n",
      "Batch 230-> Train Loss: 6.395776271820068\n",
      "Batch 240-> Train Loss: 6.341554641723633\n",
      "Batch 250-> Train Loss: 6.365708827972412\n",
      "Batch 260-> Train Loss: 6.319810390472412\n",
      "Batch 270-> Train Loss: 6.222164154052734\n",
      "Batch 280-> Train Loss: 6.277660369873047\n",
      "Batch 290-> Train Loss: 6.187829494476318\n",
      "Batch 300-> Train Loss: 6.1468024253845215\n",
      "Batch 310-> Train Loss: 6.201566219329834\n",
      "Batch 320-> Train Loss: 6.200451374053955\n",
      "Batch 330-> Train Loss: 6.105070114135742\n",
      "Batch 340-> Train Loss: 6.064694881439209\n",
      "----------------------------\n",
      "\n",
      "Epoch: 1\n",
      "Batch 10-> Train Loss: 6.046967029571533\n",
      "Batch 20-> Train Loss: 6.049551963806152\n",
      "Batch 30-> Train Loss: 6.027590751647949\n",
      "Batch 40-> Train Loss: 6.024604797363281\n",
      "Batch 50-> Train Loss: 5.8648247718811035\n",
      "Batch 60-> Train Loss: 5.923054218292236\n",
      "Batch 70-> Train Loss: 5.951073169708252\n",
      "Batch 80-> Train Loss: 5.8279242515563965\n",
      "Batch 90-> Train Loss: 5.898747444152832\n",
      "Batch 100-> Train Loss: 5.980003356933594\n",
      "Batch 110-> Train Loss: 5.768635272979736\n",
      "Batch 120-> Train Loss: 5.831660270690918\n",
      "Batch 130-> Train Loss: 5.7208147048950195\n",
      "Batch 140-> Train Loss: 5.859581470489502\n",
      "Batch 150-> Train Loss: 5.747924327850342\n",
      "Batch 160-> Train Loss: 5.652599334716797\n",
      "Batch 170-> Train Loss: 5.753901958465576\n",
      "Batch 180-> Train Loss: 5.757093906402588\n",
      "Batch 190-> Train Loss: 5.677083969116211\n",
      "Batch 200-> Train Loss: 5.683396339416504\n",
      "Batch 210-> Train Loss: 5.7147746086120605\n",
      "Batch 220-> Train Loss: 5.641536712646484\n",
      "Batch 230-> Train Loss: 5.614779949188232\n",
      "Batch 240-> Train Loss: 5.519582748413086\n",
      "Batch 250-> Train Loss: 5.662177085876465\n",
      "Batch 260-> Train Loss: 5.612339496612549\n",
      "Batch 270-> Train Loss: 5.4938435554504395\n",
      "Batch 280-> Train Loss: 5.545176982879639\n",
      "Batch 290-> Train Loss: 5.525511264801025\n",
      "Batch 300-> Train Loss: 5.595897197723389\n",
      "Batch 310-> Train Loss: 5.535247325897217\n",
      "Batch 320-> Train Loss: 5.500996112823486\n",
      "Batch 330-> Train Loss: 5.544163703918457\n",
      "Batch 340-> Train Loss: 5.485651969909668\n",
      "----------------------------\n",
      "\n",
      "Epoch: 2\n",
      "Batch 10-> Train Loss: 5.387175559997559\n",
      "Batch 20-> Train Loss: 5.486921787261963\n",
      "Batch 30-> Train Loss: 5.4440016746521\n",
      "Batch 40-> Train Loss: 5.391413688659668\n",
      "Batch 50-> Train Loss: 5.484593868255615\n",
      "Batch 60-> Train Loss: 5.437352657318115\n",
      "Batch 70-> Train Loss: 5.3648247718811035\n",
      "Batch 80-> Train Loss: 5.412807464599609\n",
      "Batch 90-> Train Loss: 5.293517589569092\n",
      "Batch 100-> Train Loss: 5.306429862976074\n",
      "Batch 110-> Train Loss: 5.431340217590332\n",
      "Batch 120-> Train Loss: 5.361721515655518\n",
      "Batch 130-> Train Loss: 5.326171875\n",
      "Batch 140-> Train Loss: 5.279013156890869\n",
      "Batch 150-> Train Loss: 5.270861625671387\n",
      "Batch 160-> Train Loss: 5.232515811920166\n",
      "Batch 170-> Train Loss: 5.292141914367676\n",
      "Batch 180-> Train Loss: 5.242668628692627\n",
      "Batch 190-> Train Loss: 5.261254787445068\n",
      "Batch 200-> Train Loss: 5.3292059898376465\n",
      "Batch 210-> Train Loss: 5.1686506271362305\n",
      "Batch 220-> Train Loss: 5.22518253326416\n",
      "Batch 230-> Train Loss: 5.217689037322998\n",
      "Batch 240-> Train Loss: 5.1813788414001465\n",
      "Batch 250-> Train Loss: 5.222362041473389\n",
      "Batch 260-> Train Loss: 5.296140193939209\n",
      "Batch 270-> Train Loss: 5.041069507598877\n",
      "Batch 280-> Train Loss: 5.2026047706604\n",
      "Batch 290-> Train Loss: 5.14548397064209\n",
      "Batch 300-> Train Loss: 5.129781246185303\n",
      "Batch 310-> Train Loss: 5.159943580627441\n",
      "Batch 320-> Train Loss: 5.161003589630127\n",
      "Batch 330-> Train Loss: 5.128772258758545\n",
      "Batch 340-> Train Loss: 5.145839214324951\n",
      "----------------------------\n",
      "\n",
      "Epoch: 3\n",
      "Batch 10-> Train Loss: 5.074370861053467\n",
      "Batch 20-> Train Loss: 5.096864700317383\n",
      "Batch 30-> Train Loss: 5.043005466461182\n",
      "Batch 40-> Train Loss: 5.062344551086426\n",
      "Batch 50-> Train Loss: 5.12017297744751\n",
      "Batch 60-> Train Loss: 5.075235366821289\n",
      "Batch 70-> Train Loss: 5.110645771026611\n",
      "Batch 80-> Train Loss: 5.079184055328369\n",
      "Batch 90-> Train Loss: 4.940735816955566\n",
      "Batch 100-> Train Loss: 5.079080104827881\n",
      "Batch 110-> Train Loss: 5.021073818206787\n",
      "Batch 120-> Train Loss: 4.936244964599609\n",
      "Batch 130-> Train Loss: 4.996877670288086\n",
      "Batch 140-> Train Loss: 4.980253219604492\n",
      "Batch 150-> Train Loss: 4.937782287597656\n",
      "Batch 160-> Train Loss: 5.061239719390869\n",
      "Batch 170-> Train Loss: 4.987720966339111\n",
      "Batch 180-> Train Loss: 4.942716121673584\n",
      "Batch 190-> Train Loss: 4.950016975402832\n",
      "Batch 200-> Train Loss: 4.924552917480469\n",
      "Batch 210-> Train Loss: 4.999738693237305\n",
      "Batch 220-> Train Loss: 5.061184406280518\n",
      "Batch 230-> Train Loss: 4.851264953613281\n",
      "Batch 240-> Train Loss: 4.9189677238464355\n",
      "Batch 250-> Train Loss: 4.86976432800293\n",
      "Batch 260-> Train Loss: 4.8709588050842285\n",
      "Batch 270-> Train Loss: 4.985548496246338\n",
      "Batch 280-> Train Loss: 4.869014263153076\n",
      "Batch 290-> Train Loss: 4.871154308319092\n",
      "Batch 300-> Train Loss: 4.890120983123779\n",
      "Batch 310-> Train Loss: 4.996798038482666\n",
      "Batch 320-> Train Loss: 4.913181304931641\n",
      "Batch 330-> Train Loss: 4.908414840698242\n",
      "Batch 340-> Train Loss: 4.847721099853516\n",
      "----------------------------\n",
      "\n",
      "Epoch: 4\n",
      "Batch 10-> Train Loss: 4.791931629180908\n",
      "Batch 20-> Train Loss: 4.990598201751709\n",
      "Batch 30-> Train Loss: 4.9281768798828125\n",
      "Batch 40-> Train Loss: 4.830998420715332\n",
      "Batch 50-> Train Loss: 4.828205108642578\n",
      "Batch 60-> Train Loss: 4.826147079467773\n",
      "Batch 70-> Train Loss: 4.849821090698242\n",
      "Batch 80-> Train Loss: 4.841679573059082\n",
      "Batch 90-> Train Loss: 4.809866905212402\n",
      "Batch 100-> Train Loss: 4.758481025695801\n",
      "Batch 110-> Train Loss: 4.9506306648254395\n",
      "Batch 120-> Train Loss: 4.882290363311768\n",
      "Batch 130-> Train Loss: 4.799610614776611\n",
      "Batch 140-> Train Loss: 4.740429401397705\n",
      "Batch 150-> Train Loss: 4.911808967590332\n",
      "Batch 160-> Train Loss: 4.7136054039001465\n",
      "Batch 170-> Train Loss: 4.764099597930908\n",
      "Batch 180-> Train Loss: 4.861929893493652\n",
      "Batch 190-> Train Loss: 4.792801856994629\n",
      "Batch 200-> Train Loss: 4.724983215332031\n",
      "Batch 210-> Train Loss: 4.6313958168029785\n",
      "Batch 220-> Train Loss: 4.748342514038086\n",
      "Batch 230-> Train Loss: 4.712303161621094\n",
      "Batch 240-> Train Loss: 4.806102275848389\n",
      "Batch 250-> Train Loss: 4.734392166137695\n",
      "Batch 260-> Train Loss: 4.684967041015625\n",
      "Batch 270-> Train Loss: 4.67739200592041\n",
      "Batch 280-> Train Loss: 4.670385360717773\n",
      "Batch 290-> Train Loss: 4.699012756347656\n",
      "Batch 300-> Train Loss: 4.658161640167236\n",
      "Batch 310-> Train Loss: 4.631054401397705\n",
      "Batch 320-> Train Loss: 4.685976982116699\n",
      "Batch 330-> Train Loss: 4.712428569793701\n",
      "Batch 340-> Train Loss: 4.511826515197754\n",
      "----------------------------\n",
      "\n",
      "Validation Loss: 4.471686840057373\n",
      "INFO:tensorflow:Restoring parameters from models/magic_model\n"
     ]
    }
   ],
   "source": [
    "# Skeleton code\n",
    "# You have to write your own training process to obtain a\n",
    "# Good performing model on the validation set, and save it.\n",
    "\n",
    "# experiment = root_folder+\"models/magic_model\"\n",
    "experiment = root_folder+\"models/final_language_model\"\n",
    "\n",
    "with tf.Session() as sess:\n",
    "    # Here is how you initialize weights of the model according to their\n",
    "    # Initialization parameters.\n",
    "    sess.run(tf.global_variables_initializer())\n",
    "    batch_size = 256\n",
    "    \n",
    "    for epoch in range(5):\n",
    "        print(\"Epoch: {}\".format(epoch))\n",
    "        \n",
    "        for i in range(1, (len(d_train)//batch_size)+1):\n",
    "            batch_input, batch_target, batch_target_mask = build_batch(d_train, batch_size)\n",
    "            # Map the values to each tensor in a `feed_dict`\n",
    "            feed = {model.input_num: batch_input, model.targets: batch_target, model.targets_mask: batch_target_mask}\n",
    "            step, train_loss, train_op = sess.run([model.global_step, model.loss, model.train_op], feed_dict=feed)\n",
    "            \n",
    "            if i % 10 == 0:\n",
    "                print(\"Batch {}-> Train Loss: {}\".format(i, train_loss))\n",
    "        \n",
    "        print(\"----------------------------\\n\")\n",
    "    \n",
    "    \n",
    "    # !MORE IMPORTANT! Don't use the train_op if you evaluate the loss on the validation set,\n",
    "    # Otherwise, your network will overfit on your validation dataset.\n",
    "    \n",
    "    step, valid_loss = sess.run([model.global_step, model.loss], feed_dict=feed)\n",
    "    \n",
    "    print(\"Validation Loss: {}\".format(valid_loss))\n",
    "    \n",
    "    # Here is how you save the model weights\n",
    "    model.saver.save(sess, experiment)\n",
    "    \n",
    "    # Here is how you restore the weights previously saved\n",
    "    model.saver.restore(sess, experiment)"
   ]
  },
  {
   "cell_type": "markdown",
   "metadata": {},
   "source": [
    "# Using the language model"
   ]
  },
  {
   "cell_type": "markdown",
   "metadata": {},
   "source": [
    "Congratulations, you have now trained a language model! We can now use it to evaluate likely news headlines, as well as generate our very own headlines.\n",
    "\n",
    "**TODO**: Complete the three parts below, using the model you have trained."
   ]
  },
  {
   "cell_type": "markdown",
   "metadata": {},
   "source": [
    "## (1) Evaluation loss\n",
    "\n",
    "To evaluate the language model, we evaluate its loss (ability to predict) on unseen data that is reserved for evaluation.\n",
    "Your first evaluation is to load the model you trained, and obtain a test loss."
   ]
  },
  {
   "cell_type": "code",
   "execution_count": 9,
   "metadata": {},
   "outputs": [],
   "source": [
    "# Your best performing model should go here.\n",
    "\n",
    "# model_file = root_folder+\"models/magic_model\"\n",
    "model_file = root_folder+\"models/final_language_model\""
   ]
  },
  {
   "cell_type": "code",
   "execution_count": 10,
   "metadata": {},
   "outputs": [
    {
     "name": "stdout",
     "output_type": "stream",
     "text": [
      "Evaluation set loss: [5.3433156]\n"
     ]
    }
   ],
   "source": [
    "# We will evaluate your model in the model_file above\n",
    "# In a very similar way as the code below.\n",
    "# Make sure your validation loss is befow the threshold we specified\n",
    "# and that you didn't train using the validation set, as you would\n",
    "# get penalized.\n",
    "\n",
    "with tf.Session() as sess:\n",
    "    model.saver.restore(sess, model_file)\n",
    "    eval_input, eval_target, eval_target_mask = build_batch(d_valid, 500)\n",
    "    feed = {model.input_num: eval_input, model.targets: eval_target, model.targets_mask: eval_target_mask}\n",
    "    eval_loss = sess.run([model.loss], feed_dict=feed)\n",
    "    print(\"Evaluation set loss:\", eval_loss)"
   ]
  },
  {
   "cell_type": "markdown",
   "metadata": {},
   "source": [
    "## (2) Evaluation of likelihood of data\n",
    "\n",
    "One use of a language model is to see what data is more likely to have originated from the training data. Because we have trained our model on news headlines, we can see which of these headlines is more likely:\n",
    "\n",
    "``Apple to release another iPhone in September``\n",
    "\n",
    "\n",
    " ``Apple and Samsung resolve all lawsuits amicably``\n",
    " \n",
    "**TODO**: Use the model to obtain the loss the neural network assigns to each sentence.\n",
    "Because the neural network assigns probability to the words appearing in a sequence, this loss can be used as a proxy to measure how likely the sentence is to have occurred in the dataset.\n",
    "Once you have the loss for each headline, write down which sentence was judged to be more likely, and explain why/if you think this is coherent.\n",
    "\n",
    "**Your answer:**\n"
   ]
  },
  {
   "cell_type": "code",
   "execution_count": 11,
   "metadata": {},
   "outputs": [
    {
     "name": "stdout",
     "output_type": "stream",
     "text": [
      "----------------------------------------\n",
      "Headline: apple to release new iphone in july\n",
      "Loss of the headline: [3.0685933]\n",
      "----------------------------------------\n",
      "Headline: apple and samsung resolve all lawsuits\n",
      "Loss of the headline: [5.458711]\n"
     ]
    }
   ],
   "source": [
    "headline1 = \"Apple to release new iPhone in July\"\n",
    "headline2 = \"Apple and Samsung resolve all lawsuits\"\n",
    "\n",
    "headlines = [headline1, headline2]\n",
    "\n",
    "with tf.Session() as sess:\n",
    "    model.saver.restore(sess, model_file)\n",
    "\n",
    "    for headline in headlines:\n",
    "        headline = headline.lower() # Our LSTM is trained on lower-cased headlines\n",
    "    \n",
    "        # From the code in the Preprocessing section at the end of the notebook\n",
    "        # Find out how to tokenize the headline\n",
    "        tokenized = tokenizer.word_tokenizer(headline)\n",
    "        \n",
    "        # Find out how to numerize the tokenized headline\n",
    "        numerized = [w2i.get(w, unkI) for w in tokenized]\n",
    "\n",
    "        # Learn how to pad and obtain the mask of the sequence.\n",
    "        to_length = 20\n",
    "        pad = numerized[:to_length]\n",
    "        padded = pad + [padI] * (to_length - len(pad))\n",
    "        mask = [w != padI for w in padded]\n",
    "        inp = [start_index] + padded[:-1]\n",
    "        \n",
    "        # Convert to numpy arrays\n",
    "        inp = np.array(inp).reshape(1, 20)\n",
    "        mask = np.array(mask).reshape(1, 20)\n",
    "        padded = np.array(padded).reshape(1, 20)\n",
    "        \n",
    "#         Obtain the loss of the sequence, and pring it\n",
    "        train_loss = sess.run([model.loss], \n",
    "                              feed_dict={model.input_num: inp, model.targets: padded, model.targets_mask: mask})\n",
    "#         feed = {model.input_num: inp, model.targets: padded, model.targets_mask: mask}\n",
    "#         step, train_loss, _ = sess.run([model.global_step, model.loss, model.train_op], feed_dict=feed)\n",
    "        print(\"----------------------------------------\")\n",
    "        print(\"Headline:\",headline)\n",
    "        print(\"Loss of the headline:\", train_loss)\n",
    "\n",
    "# Important check: one headline should be more likely (and have lower loss)\n",
    "# Than the other headline. You should know which headline should have lower loss."
   ]
  },
  {
   "cell_type": "markdown",
   "metadata": {},
   "source": [
    "## Answer\n",
    "\n",
    "**We observe that the first headline, \"Apple to release new iPhone in July\", has a smaller loss value compared to the second headline, \"Apple and Samsung resolve all lawsuits\". This result seems reasonable since the first headline is likely to be a healine of actual articles as Apple can release new iPhones in July. On the other hand, it is not likely for Apple and Samsung, two biggest competitors in smartphone market, to resolve all the lawsuits against each other. Thus, the loss values seem very coherent.**"
   ]
  },
  {
   "cell_type": "markdown",
   "metadata": {},
   "source": [
    "## (3) Generation of headlines\n",
    "\n",
    "We can use our language model to generate text according to the distribution of our training data.\n",
    "The way generation works is the following:\n",
    "\n",
    "We seed the model with a beginning of sequence, and obtain the distribution for the next word.\n",
    "We select the most likely word (argmax) and add it to our sequence of words.\n",
    "Now our sequence is one word longer, and we can feed it in again as an input, for the network to produce the next sentence.\n",
    "We do this a fixed number of times (up to 20 words), and obtain automatically generated headlines!\n"
   ]
  },
  {
   "cell_type": "markdown",
   "metadata": {},
   "source": [
    "We have provided a few headline starters that should produce interesting generated headlines.\n",
    "\n",
    "**TODO:** Get creative and find at least 2 more headline_starters that produce interesting headlines."
   ]
  },
  {
   "cell_type": "code",
   "execution_count": 17,
   "metadata": {},
   "outputs": [
    {
     "name": "stdout",
     "output_type": "stream",
     "text": [
      "===================\n",
      "Generating headline starting with: apple has released\n",
      "<START> apple has released a new iphone x , UNK UNK says it will be a UNK UNK for the\n",
      "===================\n",
      "Generating headline starting with: google has released\n",
      "<START> google has released a new UNK for its own version of the world in the world ' UNK UNK\n",
      "===================\n",
      "Generating headline starting with: amazon\n",
      "<START> amazon to launch kindle fire tablet , UNK says it will make it easier for its own assistant UNK\n",
      "===================\n",
      "Generating headline starting with: tesla to\n",
      "<START> tesla to buy apple , google , and more in UNK UNK , UNK says it will be working\n"
     ]
    }
   ],
   "source": [
    "with tf.Session() as sess:\n",
    "    model.saver.restore(sess, model_file)\n",
    "\n",
    "    # Here are some headline starters.\n",
    "    # They're all about tech companies, because\n",
    "    # That is what is in our dataset\n",
    "    headline_starters = [\"apple has released\", \"google has released\", \"amazon\", \"tesla to\"]\n",
    "    \n",
    "    for headline_starter in headline_starters:\n",
    "        print(\"===================\")\n",
    "        print(\"Generating headline starting with: \"+headline_starter)\n",
    "\n",
    "        # Tokenize and numerize the headline. Put the numerized headline\n",
    "        # beginning in `current_build`\n",
    "        tokenized = tokenizer.word_tokenizer(headline_starter)\n",
    "        current_build = [start_index] + numerize_sequence(tokenized)\n",
    "\n",
    "        while len(current_build) < input_length:\n",
    "            # Pad the current_build into a input_length vector.\n",
    "            # We do this so that it can be processed by our LanguageModel class\n",
    "            current_padded = current_build[:input_length] + [padI] * (input_length - len(current_build))\n",
    "            current_padded = np.array([current_padded])\n",
    "\n",
    "            # Obtain the logits for the current padded sequence\n",
    "            # This involves obtaining the output_logits from our model,\n",
    "            # and not the loss like we have done so far\n",
    "            logits = sess.run(model.output_logits, \n",
    "                              feed_dict={model.input_num: current_padded})\n",
    "\n",
    "            # Obtain the row of logits that interest us, the logits for the last non-pad\n",
    "            # inputs\n",
    "            last_logits = logits[:, len(current_build)-1, :]\n",
    "            \n",
    "            # Find the highest scoring word in the last_logits\n",
    "            # array. The np.argmax function should be useful.\n",
    "            # Append this word to our current build\n",
    "            word_index = np.argmax(last_logits)\n",
    "            current_build.append(word_index)\n",
    "        \n",
    "        # Go from the current_build of word_indices\n",
    "        # To the headline (string) produced. This should involve\n",
    "        # the vocabulary, and a string merger.\n",
    "        produced_sentence = numerized2text(current_build)\n",
    "        print(produced_sentence)"
   ]
  },
  {
   "cell_type": "markdown",
   "metadata": {},
   "source": [
    "## All done\n",
    "\n",
    "You are done with the first part of the HW.\n",
    "\n",
    "Next notebook deals with Summarization of text!\n"
   ]
  },
  {
   "cell_type": "markdown",
   "metadata": {
    "heading_collapsed": true
   },
   "source": [
    "# Preprocessing (read only)\n"
   ]
  },
  {
   "cell_type": "markdown",
   "metadata": {
    "hidden": true
   },
   "source": [
    "**You can skip this section, however you may find these functions useful later in the assignment**\n",
    "\n",
    "We have provided this code so you see how the dataset was generated. You will have to come back some of these functions later in the assignment, so feel free to read through, to get familiar."
   ]
  },
  {
   "cell_type": "code",
   "execution_count": 13,
   "metadata": {
    "hidden": true
   },
   "outputs": [],
   "source": [
    "def numerize_sequence(tokenized):\n",
    "    return [w2i.get(w, unkI) for w in tokenized]\n",
    "def pad_sequence(numerized, pad_index, to_length):\n",
    "    pad = numerized[:to_length]\n",
    "    padded = pad + [pad_index] * (to_length - len(pad))\n",
    "    mask = [w != pad_index for w in padded]\n",
    "    return padded, mask"
   ]
  },
  {
   "cell_type": "code",
   "execution_count": null,
   "metadata": {
    "hidden": true
   },
   "outputs": [],
   "source": [
    "# You do not need to run this\n",
    "# This is to show you how the dataset was created\n",
    "# You should read to understand, so you can preprocess text\n",
    "# In the same way, in the evaluation section\n",
    "\n",
    "for a in dataset:\n",
    "    a['tokenized'] = tokenizer.word_tokenizer(a['title'].lower())"
   ]
  },
  {
   "cell_type": "code",
   "execution_count": null,
   "metadata": {
    "hidden": true,
    "scrolled": true
   },
   "outputs": [],
   "source": [
    "# You do not need to run this\n",
    "# This is to show you how the dataset was created\n",
    "# You should read to understand, so you can preprocess text\n",
    "# In the same way, in the evaluation section\n",
    "\n",
    "word_counts = Counter()\n",
    "for a in dataset:\n",
    "    word_counts.update(a['tokenized'])\n",
    "\n",
    "print(word_counts.most_common(30))"
   ]
  },
  {
   "cell_type": "code",
   "execution_count": null,
   "metadata": {
    "hidden": true
   },
   "outputs": [],
   "source": [
    "# You do not need to run this\n",
    "# This is to show you how the dataset was created\n",
    "# You should read to understand, so you can preprocess text\n",
    "# In the same way, in the evaluation section\n",
    "\n",
    "# Creating the vocab\n",
    "vocab_size = 20000\n",
    "special_words = [\"<START>\", \"UNK\", \"PAD\"]\n",
    "vocabulary = special_words + [w for w, c in word_counts.most_common(vocab_size-len(special_words))]\n",
    "w2i = {w: i for i, w in enumerate(vocabulary)}\n",
    "\n",
    "# Numerizing and padding\n",
    "input_length = 20\n",
    "unkI, padI, startI = w2i['UNK'], w2i['PAD'], w2i['<START>']\n",
    "\n",
    "for a in dataset:\n",
    "    a['numerized'] = numerize_sequence(a['tokenized']) # Change words to IDs\n",
    "    a['numerized'], a['mask'] = pad_sequence(a['numerized'], padI, input_length) # Append appropriate PAD tokens\n",
    "    \n",
    "# Compute fraction of words that are UNK:\n",
    "word_counters = Counter([w for a in dataset for w in a['input'] if w != padI])\n",
    "\n",
    "print(\"Fraction of UNK words:\", float(word_counters[unkI]) / sum(word_counters.values()))"
   ]
  },
  {
   "cell_type": "code",
   "execution_count": null,
   "metadata": {
    "hidden": true
   },
   "outputs": [],
   "source": [
    "# You do not need to run this\n",
    "# This is to show you how the dataset was created\n",
    "# You should read to understand, so you can preprocess text\n",
    "# In the same way, in the evaluation section\n",
    "\n",
    "d_released_processed   = [d for d in dataset if d['cut'] != 'testing']\n",
    "d_unreleased_processed = [d for d in dataset if d['cut'] == 'testing']\n",
    "\n",
    "with open(\"dataset/headline_generation_dataset_processed.json\", \"w\") as f:\n",
    "    json.dump(d_released_processed, f)\n",
    "\n",
    "# This file is purposefully left out of the assignment, we will use it to evaluate your model.\n",
    "with open(\"dataset/headline_generation_dataset_unreleased_processed.json\", \"w\") as f:\n",
    "    json.dump(d_unreleased_processed, f)\n",
    "    \n",
    "with open(\"dataset/headline_generation_vocabulary.txt\", \"w\") as f:\n",
    "    f.write(\"\\n\".join(vocabulary).encode('utf8'))"
   ]
  }
 ],
 "metadata": {
  "anaconda-cloud": {},
  "kernelspec": {
   "display_name": "Python 3",
   "language": "python",
   "name": "python3"
  },
  "language_info": {
   "codemirror_mode": {
    "name": "ipython",
    "version": 3
   },
   "file_extension": ".py",
   "mimetype": "text/x-python",
   "name": "python",
   "nbconvert_exporter": "python",
   "pygments_lexer": "ipython3",
   "version": "3.7.4"
  },
  "varInspector": {
   "cols": {
    "lenName": 16,
    "lenType": 16,
    "lenVar": 40
   },
   "kernels_config": {
    "python": {
     "delete_cmd_postfix": "",
     "delete_cmd_prefix": "del ",
     "library": "var_list.py",
     "varRefreshCmd": "print(var_dic_list())"
    },
    "r": {
     "delete_cmd_postfix": ") ",
     "delete_cmd_prefix": "rm(",
     "library": "var_list.r",
     "varRefreshCmd": "cat(var_dic_list()) "
    }
   },
   "types_to_exclude": [
    "module",
    "function",
    "builtin_function_or_method",
    "instance",
    "_Feature"
   ],
   "window_display": false
  }
 },
 "nbformat": 4,
 "nbformat_minor": 1
}
